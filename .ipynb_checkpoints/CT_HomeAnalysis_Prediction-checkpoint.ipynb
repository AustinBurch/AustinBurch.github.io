{
 "cells": [
  {
   "cell_type": "code",
   "execution_count": null,
   "id": "naked-cancer",
   "metadata": {},
   "outputs": [],
   "source": [
    "'''\n",
    "ANALYSIS AND PREDICTION OF CONNECTICUT HOUSE PRICES\n",
    "'''\n",
    "\n",
    "'''\n",
    "1. Introduction\n",
    "\n",
    "For this project I want to analyze the housing trends for Connecticut. Housing trends depend on multiple factors, some of\n",
    "the main ones being the Federal Interest Rate, the Gross Domestic Product of the country, the Gross Domestic Product of the \n",
    "state, population change, and the desirability of the county or town. Also, because of COVID-19 and the large amount of jobs\n",
    "becoming remote, there is a trend of people leaving cities. With Connecticut being next to New York City and already having\n",
    "a significant proportion of the State's residents commuting to New York City, I would expect a rise in housing cost and a \n",
    "population increase in the forseeable future. With this project I am going to examine the housing and population trends and\n",
    "will impliment a Linear Regression model to predict future housing prices. \n",
    "\n",
    "'''\n",
    "\n",
    "\n",
    "'''\n",
    "Necessary Libraries\n",
    "- Pandas: For dataframe manipulation and display\n",
    "- Seaborn: For plots\n",
    "- Matplotlib: For plot formation\n",
    "- Scikit-learn: For our Linear Regression model and prediction\n",
    "'''\n",
    "import pandas as pd\n",
    "import numpy as np\n",
    "import seaborn as sns\n",
    "import matplotlib as mpl\n",
    "import sklearn\n",
    "\n",
    "'''\n",
    "\n",
    "'''\n",
    "ct_gdp_df = pd.read_csv('CT_Total_GDP.csv')\n",
    "ct_home_sales = pd.read_csv(\"CT Single Family Home Sales - Monthly.csv\")\n",
    "us_gdp_df = pd.read_csv(\"us_gdp.csv\")\n",
    "fed_rate_df = pd.read_csv(\"fed_interest_rates.csv\")"
   ]
  }
 ],
 "metadata": {
  "kernelspec": {
   "display_name": "Python 3",
   "language": "python",
   "name": "python3"
  },
  "language_info": {
   "codemirror_mode": {
    "name": "ipython",
    "version": 3
   },
   "file_extension": ".py",
   "mimetype": "text/x-python",
   "name": "python",
   "nbconvert_exporter": "python",
   "pygments_lexer": "ipython3",
   "version": "3.8.6"
  }
 },
 "nbformat": 4,
 "nbformat_minor": 5
}
